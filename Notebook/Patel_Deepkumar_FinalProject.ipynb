{
 "cells": [
  {
   "cell_type": "markdown",
   "id": "5e4f6211-3c86-459a-b74c-6ae55a7b594b",
   "metadata": {},
   "source": [
    "<center><h1>Patel_Deepkumar_FinalProject</h1></center>"
   ]
  },
  {
   "cell_type": "markdown",
   "id": "9b01290f-e978-4d78-b77b-08bf6fc4604d",
   "metadata": {},
   "source": [
    "Name: Deepkumar Patel\n",
    "<br>\n",
    "Github Username: deeppatel618\n",
    "<br>\n",
    "USC ID: 6771414477"
   ]
  },
  {
   "cell_type": "code",
   "execution_count": 2,
   "id": "8cba7628-e1f0-4e6d-86f9-e76307e42df3",
   "metadata": {},
   "outputs": [
    {
     "name": "stderr",
     "output_type": "stream",
     "text": [
      "/Users/deeppatel/Library/Python/3.9/lib/python/site-packages/urllib3/__init__.py:35: NotOpenSSLWarning: urllib3 v2 only supports OpenSSL 1.1.1+, currently the 'ssl' module is compiled with 'LibreSSL 2.8.3'. See: https://github.com/urllib3/urllib3/issues/3020\n",
      "  warnings.warn(\n"
     ]
    }
   ],
   "source": [
    "import os\n",
    "import numpy as np\n",
    "import pandas as pd\n",
    "from tensorflow.keras.preprocessing.text import Tokenizer\n",
    "from tensorflow.keras.preprocessing.sequence import pad_sequences\n",
    "import re\n",
    "import matplotlib.pyplot as plt\n",
    "from tensorflow.keras.models import Sequential\n",
    "from tensorflow.keras.layers import Embedding, Flatten, Dense, Input\n",
    "from tensorflow.keras.preprocessing.text import Tokenizer\n",
    "from tensorflow.keras.preprocessing.sequence import pad_sequences\n",
    "from tensorflow.keras.layers import Dense, Dropout\n",
    "from tensorflow.keras.optimizers import Adam\n",
    "from tensorflow.keras.models import Sequential, Model\n",
    "import warnings\n",
    "warnings.filterwarnings('ignore')"
   ]
  },
  {
   "cell_type": "markdown",
   "id": "bb7777e0-83f6-45df-8991-a66fc874451c",
   "metadata": {},
   "source": [
    "## Data Exploration and Pre-processing"
   ]
  },
  {
   "cell_type": "code",
   "execution_count": 11,
   "id": "2eb590fe-00e6-408d-9ef0-9ae6c68f94d1",
   "metadata": {},
   "outputs": [],
   "source": [
    "# I have used various online resources to complete the final project\n",
    "def load_and_process_text_data(base_directory):\n",
    "    data_train = []\n",
    "    data_test = []\n",
    "    sentiment_labels = {'pos': 1, 'neg': 0}\n",
    "    for sentiment, label in sentiment_labels.items():\n",
    "        directory = os.path.join(base_directory, sentiment)\n",
    "        for filename in os.listdir(directory):\n",
    "            if filename.endswith(\".txt\"):\n",
    "                file_path = os.path.join(directory, filename)\n",
    "                with open(file_path, 'r', encoding='utf-8') as file:\n",
    "                    text = file.read()\n",
    "                    cleaned_text = re.sub(r'[^\\w\\s]', '', text)  \n",
    "                    cleaned_text = re.sub(r'\\d', '', cleaned_text) \n",
    "\n",
    "                cv_number = int(re.search(r'cv(\\d+)', filename).group(1))\n",
    "                if 0 <= cv_number <= 699:\n",
    "                    data_train.append({\n",
    "                        'text': cleaned_text,\n",
    "                        'sentiment': label\n",
    "                    })\n",
    "                elif 700 <= cv_number <= 999:\n",
    "                    data_test.append({\n",
    "                        'text': cleaned_text,\n",
    "                        'sentiment': label\n",
    "                    })\n",
    "    df_train = pd.DataFrame(data_train)\n",
    "    df_test = pd.DataFrame(data_test)\n",
    "    return df_train, df_test"
   ]
  },
  {
   "cell_type": "code",
   "execution_count": 12,
   "id": "515b4a7a-2229-4119-b07a-7270ba8f127b",
   "metadata": {},
   "outputs": [
    {
     "name": "stdout",
     "output_type": "stream",
     "text": [
      "Training Data:\n",
      "                                                   text  sentiment\n",
      "0     plot  derek zoolander is a male model  \\nhe is...          1\n",
      "1       good will hunting  is two movies in one  an ...          1\n",
      "2     the story of us  a rob reiner film  is the sec...          1\n",
      "3       the fighting sullivans  contains a major plo...          1\n",
      "4     george little  jonathan lipnicki  wants a litt...          1\n",
      "...                                                 ...        ...\n",
      "1395  synopsis  when a meteorite crashlands in the a...          0\n",
      "1396  its now the anniversary of the slayings of jul...          0\n",
      "1397  coinciding with the emerging popularity of mov...          0\n",
      "1398  and now the highflying hong kong style of film...          0\n",
      "1399  battlefield long  boring and just plain stupid...          0\n",
      "\n",
      "[1400 rows x 2 columns]\n"
     ]
    }
   ],
   "source": [
    "df_train, df_test = load_and_process_text_data(\"../Data/\")\n",
    "print(\"Training Data:\")\n",
    "print(df_train)"
   ]
  },
  {
   "cell_type": "code",
   "execution_count": 13,
   "id": "97cac44d-f43c-4e95-9c13-2023b6ab66aa",
   "metadata": {},
   "outputs": [
    {
     "name": "stdout",
     "output_type": "stream",
     "text": [
      "\n",
      "Testing Data:\n",
      "                                                  text  sentiment\n",
      "0    assume nothing  \\nthe phrase is perhaps one of...          1\n",
      "1    i actually am a fan of the original  or so liv...          1\n",
      "2    a movie thats been as highly built up as the t...          1\n",
      "3    anastasia contains something that has been lac...          1\n",
      "4    before you read my review  you gotta know that...          1\n",
      "..                                                 ...        ...\n",
      "595  martial arts master steven seagal  not to ment...          0\n",
      "596    tarzan and the lost city  is one of the most...          0\n",
      "597  vegas vacation is the fourth film starring che...          0\n",
      "598  seen december    at    p  m  at the glenwood m...          0\n",
      "599  its difficult to expect much from a director w...          0\n",
      "\n",
      "[600 rows x 2 columns]\n"
     ]
    }
   ],
   "source": [
    "print(\"\\nTesting Data:\")\n",
    "print(df_test)"
   ]
  },
  {
   "cell_type": "markdown",
   "id": "23b61a71-198c-4f07-beca-c44fd07c4aa7",
   "metadata": {},
   "source": [
    "## Count the number of unique words in the whole dataset (train + test) and print it out."
   ]
  },
  {
   "cell_type": "code",
   "execution_count": 14,
   "id": "80ccbb3e-d0c7-41af-b973-4d55b8983d78",
   "metadata": {},
   "outputs": [],
   "source": [
    "def count_unique_words(text_series):\n",
    "    all_text = ' '.join(text_series)\n",
    "    unique_words = set(all_text.split())\n",
    "    return len(unique_words), unique_words"
   ]
  },
  {
   "cell_type": "code",
   "execution_count": 15,
   "id": "6dff0f64-65f8-4390-a0a2-c288339b3e32",
   "metadata": {},
   "outputs": [
    {
     "name": "stdout",
     "output_type": "stream",
     "text": [
      "Total number of unique words are :  47037\n"
     ]
    }
   ],
   "source": [
    "all_data =  pd.concat([df_test,df_train])\n",
    "unique_count, unique_words = count_unique_words(all_data['text'])\n",
    "print('Total number of unique words are : ',unique_count)"
   ]
  },
  {
   "cell_type": "markdown",
   "id": "5a5f0a43-c6a4-4d68-ba08-f7e3c1771f58",
   "metadata": {},
   "source": [
    "## Calculate the average review length and the standard deviation of review lengths. Report the results."
   ]
  },
  {
   "cell_type": "code",
   "execution_count": 17,
   "id": "b763afbd-03fa-4109-9bf3-c0923261831e",
   "metadata": {},
   "outputs": [],
   "source": [
    "def review_length_stats(data):\n",
    "    review_lengths = data['text'].str.split().apply(len)\n",
    "    average_length = review_lengths.mean()\n",
    "    std_dev_length = review_lengths.std()\n",
    "    return average_length, std_dev_length,review_lengths"
   ]
  },
  {
   "cell_type": "code",
   "execution_count": 18,
   "id": "7458c384-86d9-49eb-b60c-d94f17e3105e",
   "metadata": {},
   "outputs": [],
   "source": [
    "avg_length, std_dev, review_lengths = review_length_stats(all_data)"
   ]
  },
  {
   "cell_type": "code",
   "execution_count": 19,
   "id": "d6b1ff6a-4ed4-4e20-afc3-bdcce3119f7a",
   "metadata": {},
   "outputs": [
    {
     "name": "stdout",
     "output_type": "stream",
     "text": [
      "Avg_length  644.3575\n",
      "std_dev  285.05139508985275\n"
     ]
    }
   ],
   "source": [
    "print(\"Avg_length \",avg_length)\n",
    "print(\"std_dev \",std_dev)"
   ]
  },
  {
   "cell_type": "markdown",
   "id": "9809f40e-579e-4d89-b5ff-a45ef71ded79",
   "metadata": {},
   "source": [
    "## Plot the histogram of review lengths."
   ]
  },
  {
   "cell_type": "code",
   "execution_count": 20,
   "id": "a3637004-b4a6-4f30-9c74-d668f9643f0c",
   "metadata": {},
   "outputs": [
    {
     "data": {
      "text/plain": [
       "Text(0, 0.5, 'Frequency')"
      ]
     },
     "execution_count": 20,
     "metadata": {},
     "output_type": "execute_result"
    },
    {
     "data": {
      "image/png": "[encoded data removed]",
      "text/plain": [
       "<Figure size 1000x600 with 1 Axes>"
      ]
     },
     "metadata": {},
     "output_type": "display_data"
    }
   ],
   "source": [
    "plt.figure(figsize=(10, 6))\n",
    "plt.hist(review_lengths, bins=30, color='red', edgecolor='black')\n",
    "plt.title('Histogram of Review Lengths')\n",
    "plt.xlabel('Review Length')\n",
    "plt.ylabel('Frequency')"
   ]
  },
  {
   "cell_type": "markdown",
   "id": "5f13a201-103a-4273-9918-def305bf54e0",
   "metadata": {},
   "source": [
    "## To represent each text (= data point), there are many ways. In NLP/Deep Learning terminology, this task is called tokenization. It is common to represent text using popularity/ rank of words in text. The most common wordin the text will be represented as 1, the second most common word will be represented as 2, etc. Tokenize each text document using this method."
   ]
  },
  {
   "cell_type": "code",
   "execution_count": 21,
   "id": "3e48b654-c113-41e9-9f76-fe2035ec3ccb",
   "metadata": {},
   "outputs": [
    {
     "name": "stdout",
     "output_type": "stream",
     "text": [
      "Word Index: {'the': 1, 'a': 2, 'and': 3, 'of': 4, 'to': 5, 'is': 6, 'in': 7, 'that': 8, 'it': 9, 'as': 10}\n",
      "46737\n"
     ]
    }
   ],
   "source": [
    "tokenizer = Tokenizer(num_words=10000)  \n",
    "all_texts = all_data[\"text\"]\n",
    "tokenizer.fit_on_texts(all_texts)\n",
    "sequences = tokenizer.texts_to_sequences(all_texts)\n",
    "word_index = tokenizer.word_index\n",
    "print(\"Word Index:\", {k: word_index[k] for k in list(word_index)[:10]})\n",
    "print(len(word_index))"
   ]
  },
  {
   "cell_type": "markdown",
   "id": "c5d3204b-c774-45d8-9921-834bf342e750",
   "metadata": {},
   "source": [
    "## Select a review length L that 70% of the reviews have a length below it"
   ]
  },
  {
   "cell_type": "code",
   "execution_count": 22,
   "id": "cd897122-d536-4514-8c6a-1d3ddbd06b77",
   "metadata": {},
   "outputs": [
    {
     "name": "stdout",
     "output_type": "stream",
     "text": [
      "Review length L such that 70% of the reviews are shorter than this length: 737.0\n"
     ]
    }
   ],
   "source": [
    "L = np.percentile(review_lengths, 70)\n",
    "print(\"Review length L such that 70% of the reviews are shorter than this length:\", L)"
   ]
  },
  {
   "cell_type": "markdown",
   "id": "649a4657-d346-495c-ada6-ecc952bdb04a",
   "metadata": {},
   "source": [
    "## Truncate reviews longer than L words and zero-pad reviews shorter than L so that all texts (= data points) are of length L"
   ]
  },
  {
   "cell_type": "code",
   "execution_count": 23,
   "id": "77ec5bb8-36c9-4963-8a8a-a9763bfed532",
   "metadata": {},
   "outputs": [],
   "source": [
    "\n",
    "max_words = 5000\n",
    "\n",
    "tokenizer = Tokenizer(num_words = max_words)\n",
    "\n",
    "all_texts = pd.concat([df_train['text'], df_test['text']])  # Combine all text data\n",
    "tokenizer.fit_on_texts(all_texts)\n",
    "\n",
    "# Convert texts to sequences\n",
    "train_sequences = tokenizer.texts_to_sequences(df_train['text'])\n",
    "test_sequences = tokenizer.texts_to_sequences(df_test['text'])\n",
    "\n",
    "train_padded_sequences = pad_sequences(train_sequences, maxlen=737, padding='post', truncating='post')\n",
    "test_padded_sequences = pad_sequences(test_sequences, maxlen=737, padding='post', truncating='post')\n",
    "\n"
   ]
  },
  {
   "cell_type": "code",
   "execution_count": 24,
   "id": "fbf94430-0038-4841-9f09-00934750e16c",
   "metadata": {},
   "outputs": [
    {
     "data": {
      "text/plain": [
       "(1400, 737)"
      ]
     },
     "execution_count": 24,
     "metadata": {},
     "output_type": "execute_result"
    }
   ],
   "source": [
    "train_padded_sequences.shape"
   ]
  },
  {
   "cell_type": "code",
   "execution_count": 25,
   "id": "decab5ae-fb2f-41e3-8067-8f41aee4ae7e",
   "metadata": {},
   "outputs": [
    {
     "data": {
      "text/plain": [
       "(600, 737)"
      ]
     },
     "execution_count": 25,
     "metadata": {},
     "output_type": "execute_result"
    }
   ],
   "source": [
    "test_padded_sequences.shape"
   ]
  },
  {
   "cell_type": "markdown",
   "id": "0a4411e5-a7c7-430f-b74a-e9cf3923377a",
   "metadata": {},
   "source": [
    "## Word Embeddings and Multi-Layer Perceptron"
   ]
  },
  {
   "cell_type": "code",
   "execution_count": 26,
   "id": "a1415bf4-5a28-49bf-a96e-b0cdb071f621",
   "metadata": {},
   "outputs": [],
   "source": [
    "max_len = 737\n",
    "input_layer = Input(shape=(max_len,))\n",
    "embedding = Embedding(input_dim=max_words, output_dim=32, input_shape=(max_len,))(input_layer)\n",
    "flatten = Flatten()(embedding)\n",
    "model = Model(inputs=input_layer, outputs=flatten)"
   ]
  },
  {
   "cell_type": "code",
   "execution_count": 27,
   "id": "437a7110-e9e9-4e8e-961a-daf354fac1a2",
   "metadata": {},
   "outputs": [
    {
     "name": "stdout",
     "output_type": "stream",
     "text": [
      "\u001b[1m44/44\u001b[0m \u001b[32m━━━━━━━━━━━━━━━━━━━━\u001b[0m\u001b[37m\u001b[0m \u001b[1m0s\u001b[0m 780us/step\n"
     ]
    },
    {
     "data": {
      "text/plain": [
       "(1400, 23584)"
      ]
     },
     "execution_count": 27,
     "metadata": {},
     "output_type": "execute_result"
    }
   ],
   "source": [
    "y = model.predict(train_padded_sequences)\n",
    "y.shape"
   ]
  },
  {
   "cell_type": "code",
   "execution_count": 28,
   "id": "78b868b5-b9aa-4c77-b31d-324cf9da7881",
   "metadata": {},
   "outputs": [
    {
     "name": "stdout",
     "output_type": "stream",
     "text": [
      "\u001b[1m44/44\u001b[0m \u001b[32m━━━━━━━━━━━━━━━━━━━━\u001b[0m\u001b[37m\u001b[0m \u001b[1m0s\u001b[0m 530us/step\n",
      "\u001b[1m19/19\u001b[0m \u001b[32m━━━━━━━━━━━━━━━━━━━━\u001b[0m\u001b[37m\u001b[0m \u001b[1m0s\u001b[0m 480us/step\n"
     ]
    }
   ],
   "source": [
    "train_embedding_outputs = model.predict(train_padded_sequences)\n",
    "test_embedding_outputs = model.predict(test_padded_sequences)"
   ]
  },
  {
   "cell_type": "code",
   "execution_count": 29,
   "id": "b5ee2925-7e58-4598-8b0d-cfc83f177b6f",
   "metadata": {},
   "outputs": [
    {
     "data": {
      "text/plain": [
       "(1400, 23584)"
      ]
     },
     "execution_count": 29,
     "metadata": {},
     "output_type": "execute_result"
    }
   ],
   "source": [
    "train_embedding_outputs.shape"
   ]
  },
  {
   "cell_type": "code",
   "execution_count": 30,
   "id": "aba1023a-126d-4508-bd59-0e7b24e1f66c",
   "metadata": {},
   "outputs": [],
   "source": [
    "mlp_model = Sequential([\n",
    "        Dense(50, activation='relu', input_shape=(23584,)),\n",
    "        Dropout(0.2),\n",
    "        Dense(50, activation='relu'),\n",
    "        Dropout(0.5),\n",
    "        Dense(50, activation='relu'),\n",
    "        Dropout(0.5),\n",
    "        Dense(1, activation='sigmoid')\n",
    "    ])\n",
    "mlp_model.compile(optimizer=Adam(), loss='binary_crossentropy', metrics=['accuracy'])"
   ]
  },
  {
   "cell_type": "code",
   "execution_count": 31,
   "id": "90fe58e8-8181-4965-a329-1c313c810616",
   "metadata": {},
   "outputs": [
    {
     "data": {
      "text/html": [
       "<pre style=\"white-space:pre;overflow-x:auto;line-height:normal;font-family:Menlo,'DejaVu Sans Mono',consolas,'Courier New',monospace\"><span style=\"font-weight: bold\">Model: \"sequential\"</span>\n",
       "</pre>\n"
      ],
      "text/plain": [
       "\u001b[1mModel: \"sequential\"\u001b[0m\n"
      ]
     },
     "metadata": {},
     "output_type": "display_data"
    },
    {
     "data": {
      "text/html": [
       "<pre style=\"white-space:pre;overflow-x:auto;line-height:normal;font-family:Menlo,'DejaVu Sans Mono',consolas,'Courier New',monospace\">┏━━━━━━━━━━━━━━━━━━━━━━━━━━━━━━━━━┳━━━━━━━━━━━━━━━━━━━━━━━━┳━━━━━━━━━━━━━━━┓\n",
       "┃<span style=\"font-weight: bold\"> Layer (type)                    </span>┃<span style=\"font-weight: bold\"> Output Shape           </span>┃<span style=\"font-weight: bold\">       Param # </span>┃\n",
       "┡━━━━━━━━━━━━━━━━━━━━━━━━━━━━━━━━━╇━━━━━━━━━━━━━━━━━━━━━━━━╇━━━━━━━━━━━━━━━┩\n",
       "│ dense (<span style=\"color: #0087ff; text-decoration-color: #0087ff\">Dense</span>)                   │ (<span style=\"color: #00d7ff; text-decoration-color: #00d7ff\">None</span>, <span style=\"color: #00af00; text-decoration-color: #00af00\">50</span>)             │     <span style=\"color: #00af00; text-decoration-color: #00af00\">1,179,250</span> │\n",
       "├─────────────────────────────────┼────────────────────────┼───────────────┤\n",
       "│ dropout (<span style=\"color: #0087ff; text-decoration-color: #0087ff\">Dropout</span>)               │ (<span style=\"color: #00d7ff; text-decoration-color: #00d7ff\">None</span>, <span style=\"color: #00af00; text-decoration-color: #00af00\">50</span>)             │             <span style=\"color: #00af00; text-decoration-color: #00af00\">0</span> │\n",
       "├─────────────────────────────────┼────────────────────────┼───────────────┤\n",
       "│ dense_1 (<span style=\"color: #0087ff; text-decoration-color: #0087ff\">Dense</span>)                 │ (<span style=\"color: #00d7ff; text-decoration-color: #00d7ff\">None</span>, <span style=\"color: #00af00; text-decoration-color: #00af00\">50</span>)             │         <span style=\"color: #00af00; text-decoration-color: #00af00\">2,550</span> │\n",
       "├─────────────────────────────────┼────────────────────────┼───────────────┤\n",
       "│ dropout_1 (<span style=\"color: #0087ff; text-decoration-color: #0087ff\">Dropout</span>)             │ (<span style=\"color: #00d7ff; text-decoration-color: #00d7ff\">None</span>, <span style=\"color: #00af00; text-decoration-color: #00af00\">50</span>)             │             <span style=\"color: #00af00; text-decoration-color: #00af00\">0</span> │\n",
       "├─────────────────────────────────┼────────────────────────┼───────────────┤\n",
       "│ dense_2 (<span style=\"color: #0087ff; text-decoration-color: #0087ff\">Dense</span>)                 │ (<span style=\"color: #00d7ff; text-decoration-color: #00d7ff\">None</span>, <span style=\"color: #00af00; text-decoration-color: #00af00\">50</span>)             │         <span style=\"color: #00af00; text-decoration-color: #00af00\">2,550</span> │\n",
       "├─────────────────────────────────┼────────────────────────┼───────────────┤\n",
       "│ dropout_2 (<span style=\"color: #0087ff; text-decoration-color: #0087ff\">Dropout</span>)             │ (<span style=\"color: #00d7ff; text-decoration-color: #00d7ff\">None</span>, <span style=\"color: #00af00; text-decoration-color: #00af00\">50</span>)             │             <span style=\"color: #00af00; text-decoration-color: #00af00\">0</span> │\n",
       "├─────────────────────────────────┼────────────────────────┼───────────────┤\n",
       "│ dense_3 (<span style=\"color: #0087ff; text-decoration-color: #0087ff\">Dense</span>)                 │ (<span style=\"color: #00d7ff; text-decoration-color: #00d7ff\">None</span>, <span style=\"color: #00af00; text-decoration-color: #00af00\">1</span>)              │            <span style=\"color: #00af00; text-decoration-color: #00af00\">51</span> │\n",
       "└─────────────────────────────────┴────────────────────────┴───────────────┘\n",
       "</pre>\n"
      ],
      "text/plain": [
       "┏━━━━━━━━━━━━━━━━━━━━━━━━━━━━━━━━━┳━━━━━━━━━━━━━━━━━━━━━━━━┳━━━━━━━━━━━━━━━┓\n",
       "┃\u001b[1m \u001b[0m\u001b[1mLayer (type)                   \u001b[0m\u001b[1m \u001b[0m┃\u001b[1m \u001b[0m\u001b[1mOutput Shape          \u001b[0m\u001b[1m \u001b[0m┃\u001b[1m \u001b[0m\u001b[1m      Param #\u001b[0m\u001b[1m \u001b[0m┃\n",
       "┡━━━━━━━━━━━━━━━━━━━━━━━━━━━━━━━━━╇━━━━━━━━━━━━━━━━━━━━━━━━╇━━━━━━━━━━━━━━━┩\n",
       "│ dense (\u001b[38;5;33mDense\u001b[0m)                   │ (\u001b[38;5;45mNone\u001b[0m, \u001b[38;5;34m50\u001b[0m)             │     \u001b[38;5;34m1,179,250\u001b[0m │\n",
       "├─────────────────────────────────┼────────────────────────┼───────────────┤\n",
       "│ dropout (\u001b[38;5;33mDropout\u001b[0m)               │ (\u001b[38;5;45mNone\u001b[0m, \u001b[38;5;34m50\u001b[0m)             │             \u001b[38;5;34m0\u001b[0m │\n",
       "├─────────────────────────────────┼────────────────────────┼───────────────┤\n",
       "│ dense_1 (\u001b[38;5;33mDense\u001b[0m)                 │ (\u001b[38;5;45mNone\u001b[0m, \u001b[38;5;34m50\u001b[0m)             │         \u001b[38;5;34m2,550\u001b[0m │\n",
       "├─────────────────────────────────┼────────────────────────┼───────────────┤\n",
       "│ dropout_1 (\u001b[38;5;33mDropout\u001b[0m)             │ (\u001b[38;5;45mNone\u001b[0m, \u001b[38;5;34m50\u001b[0m)             │             \u001b[38;5;34m0\u001b[0m │\n",
       "├─────────────────────────────────┼────────────────────────┼───────────────┤\n",
       "│ dense_2 (\u001b[38;5;33mDense\u001b[0m)                 │ (\u001b[38;5;45mNone\u001b[0m, \u001b[38;5;34m50\u001b[0m)             │         \u001b[38;5;34m2,550\u001b[0m │\n",
       "├─────────────────────────────────┼────────────────────────┼───────────────┤\n",
       "│ dropout_2 (\u001b[38;5;33mDropout\u001b[0m)             │ (\u001b[38;5;45mNone\u001b[0m, \u001b[38;5;34m50\u001b[0m)             │             \u001b[38;5;34m0\u001b[0m │\n",
       "├─────────────────────────────────┼────────────────────────┼───────────────┤\n",
       "│ dense_3 (\u001b[38;5;33mDense\u001b[0m)                 │ (\u001b[38;5;45mNone\u001b[0m, \u001b[38;5;34m1\u001b[0m)              │            \u001b[38;5;34m51\u001b[0m │\n",
       "└─────────────────────────────────┴────────────────────────┴───────────────┘\n"
      ]
     },
     "metadata": {},
     "output_type": "display_data"
    },
    {
     "data": {
      "text/html": [
       "<pre style=\"white-space:pre;overflow-x:auto;line-height:normal;font-family:Menlo,'DejaVu Sans Mono',consolas,'Courier New',monospace\"><span style=\"font-weight: bold\"> Total params: </span><span style=\"color: #00af00; text-decoration-color: #00af00\">1,184,401</span> (4.52 MB)\n",
       "</pre>\n"
      ],
      "text/plain": [
       "\u001b[1m Total params: \u001b[0m\u001b[38;5;34m1,184,401\u001b[0m (4.52 MB)\n"
      ]
     },
     "metadata": {},
     "output_type": "display_data"
    },
    {
     "data": {
      "text/html": [
       "<pre style=\"white-space:pre;overflow-x:auto;line-height:normal;font-family:Menlo,'DejaVu Sans Mono',consolas,'Courier New',monospace\"><span style=\"font-weight: bold\"> Trainable params: </span><span style=\"color: #00af00; text-decoration-color: #00af00\">1,184,401</span> (4.52 MB)\n",
       "</pre>\n"
      ],
      "text/plain": [
       "\u001b[1m Trainable params: \u001b[0m\u001b[38;5;34m1,184,401\u001b[0m (4.52 MB)\n"
      ]
     },
     "metadata": {},
     "output_type": "display_data"
    },
    {
     "data": {
      "text/html": [
       "<pre style=\"white-space:pre;overflow-x:auto;line-height:normal;font-family:Menlo,'DejaVu Sans Mono',consolas,'Courier New',monospace\"><span style=\"font-weight: bold\"> Non-trainable params: </span><span style=\"color: #00af00; text-decoration-color: #00af00\">0</span> (0.00 B)\n",
       "</pre>\n"
      ],
      "text/plain": [
       "\u001b[1m Non-trainable params: \u001b[0m\u001b[38;5;34m0\u001b[0m (0.00 B)\n"
      ]
     },
     "metadata": {},
     "output_type": "display_data"
    },
    {
     "name": "stdout",
     "output_type": "stream",
     "text": [
      "Epoch 1/2\n",
      "\u001b[1m140/140\u001b[0m \u001b[32m━━━━━━━━━━━━━━━━━━━━\u001b[0m\u001b[37m\u001b[0m \u001b[1m1s\u001b[0m 2ms/step - accuracy: 0.5050 - loss: 0.7025\n",
      "Epoch 2/2\n",
      "\u001b[1m140/140\u001b[0m \u001b[32m━━━━━━━━━━━━━━━━━━━━\u001b[0m\u001b[37m\u001b[0m \u001b[1m0s\u001b[0m 2ms/step - accuracy: 0.5383 - loss: 0.6902\n"
     ]
    }
   ],
   "source": [
    "mlp_model.summary()\n",
    "history = mlp_model.fit(train_embedding_outputs, df_train['sentiment'], epochs=2, batch_size=10, verbose=1)"
   ]
  },
  {
   "cell_type": "code",
   "execution_count": 32,
   "id": "0aef66df-e2cf-424f-8436-1261a3bf7662",
   "metadata": {},
   "outputs": [
    {
     "name": "stdout",
     "output_type": "stream",
     "text": [
      "Train Accuracy: 65.07%\n",
      "Test Accuracy: 54.83%\n"
     ]
    }
   ],
   "source": [
    "train_loss, train_accuracy = mlp_model.evaluate(train_embedding_outputs, df_train[\"sentiment\"], verbose=0)\n",
    "print(f\"Train Accuracy: {train_accuracy * 100:.2f}%\")\n",
    "\n",
    "test_loss, test_accuracy = mlp_model.evaluate(test_embedding_outputs, df_test[\"sentiment\"], verbose=0)\n",
    "print(f\"Test Accuracy: {test_accuracy * 100:.2f}%\")"
   ]
  },
  {
   "cell_type": "markdown",
   "id": "67aa2f38-ee5f-4b60-9e76-5ad6c9a07637",
   "metadata": {},
   "source": [
    "## One-Dimensional Convolutional Neural Network"
   ]
  },
  {
   "cell_type": "code",
   "execution_count": 33,
   "id": "f50522b1-6651-4ee6-9100-7258aff95905",
   "metadata": {},
   "outputs": [],
   "source": [
    "def create_mlp_model(input_shape):\n",
    "    model = Sequential([\n",
    "        Dense(50, activation='relu', input_shape=(input_shape,)),\n",
    "        Dropout(0.2),\n",
    "        Dense(50, activation='relu'),\n",
    "        Dropout(0.5),\n",
    "        Dense(50, activation='relu'),\n",
    "        Dropout(0.5),\n",
    "        Dense(1, activation='sigmoid')\n",
    "    ])\n",
    "    model.compile(optimizer=Adam(), loss='binary_crossentropy', metrics=['accuracy'])\n",
    "    return model"
   ]
  },
  {
   "cell_type": "code",
   "execution_count": 34,
   "id": "010835d6-1e9c-4dab-a19d-cc7bd66026a2",
   "metadata": {},
   "outputs": [
    {
     "data": {
      "text/html": [
       "<pre style=\"white-space:pre;overflow-x:auto;line-height:normal;font-family:Menlo,'DejaVu Sans Mono',consolas,'Courier New',monospace\"><span style=\"font-weight: bold\">Model: \"sequential_1\"</span>\n",
       "</pre>\n"
      ],
      "text/plain": [
       "\u001b[1mModel: \"sequential_1\"\u001b[0m\n"
      ]
     },
     "metadata": {},
     "output_type": "display_data"
    },
    {
     "data": {
      "text/html": [
       "<pre style=\"white-space:pre;overflow-x:auto;line-height:normal;font-family:Menlo,'DejaVu Sans Mono',consolas,'Courier New',monospace\">┏━━━━━━━━━━━━━━━━━━━━━━━━━━━━━━━━━┳━━━━━━━━━━━━━━━━━━━━━━━━┳━━━━━━━━━━━━━━━┓\n",
       "┃<span style=\"font-weight: bold\"> Layer (type)                    </span>┃<span style=\"font-weight: bold\"> Output Shape           </span>┃<span style=\"font-weight: bold\">       Param # </span>┃\n",
       "┡━━━━━━━━━━━━━━━━━━━━━━━━━━━━━━━━━╇━━━━━━━━━━━━━━━━━━━━━━━━╇━━━━━━━━━━━━━━━┩\n",
       "│ embedding_1 (<span style=\"color: #0087ff; text-decoration-color: #0087ff\">Embedding</span>)         │ (<span style=\"color: #00d7ff; text-decoration-color: #00d7ff\">None</span>, <span style=\"color: #00af00; text-decoration-color: #00af00\">737</span>, <span style=\"color: #00af00; text-decoration-color: #00af00\">32</span>)        │       <span style=\"color: #00af00; text-decoration-color: #00af00\">160,000</span> │\n",
       "├─────────────────────────────────┼────────────────────────┼───────────────┤\n",
       "│ conv1d (<span style=\"color: #0087ff; text-decoration-color: #0087ff\">Conv1D</span>)                 │ (<span style=\"color: #00d7ff; text-decoration-color: #00d7ff\">None</span>, <span style=\"color: #00af00; text-decoration-color: #00af00\">737</span>, <span style=\"color: #00af00; text-decoration-color: #00af00\">32</span>)        │         <span style=\"color: #00af00; text-decoration-color: #00af00\">3,104</span> │\n",
       "├─────────────────────────────────┼────────────────────────┼───────────────┤\n",
       "│ max_pooling1d (<span style=\"color: #0087ff; text-decoration-color: #0087ff\">MaxPooling1D</span>)    │ (<span style=\"color: #00d7ff; text-decoration-color: #00d7ff\">None</span>, <span style=\"color: #00af00; text-decoration-color: #00af00\">368</span>, <span style=\"color: #00af00; text-decoration-color: #00af00\">32</span>)        │             <span style=\"color: #00af00; text-decoration-color: #00af00\">0</span> │\n",
       "├─────────────────────────────────┼────────────────────────┼───────────────┤\n",
       "│ flatten_1 (<span style=\"color: #0087ff; text-decoration-color: #0087ff\">Flatten</span>)             │ (<span style=\"color: #00d7ff; text-decoration-color: #00d7ff\">None</span>, <span style=\"color: #00af00; text-decoration-color: #00af00\">11776</span>)          │             <span style=\"color: #00af00; text-decoration-color: #00af00\">0</span> │\n",
       "└─────────────────────────────────┴────────────────────────┴───────────────┘\n",
       "</pre>\n"
      ],
      "text/plain": [
       "┏━━━━━━━━━━━━━━━━━━━━━━━━━━━━━━━━━┳━━━━━━━━━━━━━━━━━━━━━━━━┳━━━━━━━━━━━━━━━┓\n",
       "┃\u001b[1m \u001b[0m\u001b[1mLayer (type)                   \u001b[0m\u001b[1m \u001b[0m┃\u001b[1m \u001b[0m\u001b[1mOutput Shape          \u001b[0m\u001b[1m \u001b[0m┃\u001b[1m \u001b[0m\u001b[1m      Param #\u001b[0m\u001b[1m \u001b[0m┃\n",
       "┡━━━━━━━━━━━━━━━━━━━━━━━━━━━━━━━━━╇━━━━━━━━━━━━━━━━━━━━━━━━╇━━━━━━━━━━━━━━━┩\n",
       "│ embedding_1 (\u001b[38;5;33mEmbedding\u001b[0m)         │ (\u001b[38;5;45mNone\u001b[0m, \u001b[38;5;34m737\u001b[0m, \u001b[38;5;34m32\u001b[0m)        │       \u001b[38;5;34m160,000\u001b[0m │\n",
       "├─────────────────────────────────┼────────────────────────┼───────────────┤\n",
       "│ conv1d (\u001b[38;5;33mConv1D\u001b[0m)                 │ (\u001b[38;5;45mNone\u001b[0m, \u001b[38;5;34m737\u001b[0m, \u001b[38;5;34m32\u001b[0m)        │         \u001b[38;5;34m3,104\u001b[0m │\n",
       "├─────────────────────────────────┼────────────────────────┼───────────────┤\n",
       "│ max_pooling1d (\u001b[38;5;33mMaxPooling1D\u001b[0m)    │ (\u001b[38;5;45mNone\u001b[0m, \u001b[38;5;34m368\u001b[0m, \u001b[38;5;34m32\u001b[0m)        │             \u001b[38;5;34m0\u001b[0m │\n",
       "├─────────────────────────────────┼────────────────────────┼───────────────┤\n",
       "│ flatten_1 (\u001b[38;5;33mFlatten\u001b[0m)             │ (\u001b[38;5;45mNone\u001b[0m, \u001b[38;5;34m11776\u001b[0m)          │             \u001b[38;5;34m0\u001b[0m │\n",
       "└─────────────────────────────────┴────────────────────────┴───────────────┘\n"
      ]
     },
     "metadata": {},
     "output_type": "display_data"
    },
    {
     "data": {
      "text/html": [
       "<pre style=\"white-space:pre;overflow-x:auto;line-height:normal;font-family:Menlo,'DejaVu Sans Mono',consolas,'Courier New',monospace\"><span style=\"font-weight: bold\"> Total params: </span><span style=\"color: #00af00; text-decoration-color: #00af00\">163,104</span> (637.12 KB)\n",
       "</pre>\n"
      ],
      "text/plain": [
       "\u001b[1m Total params: \u001b[0m\u001b[38;5;34m163,104\u001b[0m (637.12 KB)\n"
      ]
     },
     "metadata": {},
     "output_type": "display_data"
    },
    {
     "data": {
      "text/html": [
       "<pre style=\"white-space:pre;overflow-x:auto;line-height:normal;font-family:Menlo,'DejaVu Sans Mono',consolas,'Courier New',monospace\"><span style=\"font-weight: bold\"> Trainable params: </span><span style=\"color: #00af00; text-decoration-color: #00af00\">163,104</span> (637.12 KB)\n",
       "</pre>\n"
      ],
      "text/plain": [
       "\u001b[1m Trainable params: \u001b[0m\u001b[38;5;34m163,104\u001b[0m (637.12 KB)\n"
      ]
     },
     "metadata": {},
     "output_type": "display_data"
    },
    {
     "data": {
      "text/html": [
       "<pre style=\"white-space:pre;overflow-x:auto;line-height:normal;font-family:Menlo,'DejaVu Sans Mono',consolas,'Courier New',monospace\"><span style=\"font-weight: bold\"> Non-trainable params: </span><span style=\"color: #00af00; text-decoration-color: #00af00\">0</span> (0.00 B)\n",
       "</pre>\n"
      ],
      "text/plain": [
       "\u001b[1m Non-trainable params: \u001b[0m\u001b[38;5;34m0\u001b[0m (0.00 B)\n"
      ]
     },
     "metadata": {},
     "output_type": "display_data"
    },
    {
     "name": "stdout",
     "output_type": "stream",
     "text": [
      "\u001b[1m44/44\u001b[0m \u001b[32m━━━━━━━━━━━━━━━━━━━━\u001b[0m\u001b[37m\u001b[0m \u001b[1m0s\u001b[0m 2ms/step\n",
      "\u001b[1m19/19\u001b[0m \u001b[32m━━━━━━━━━━━━━━━━━━━━\u001b[0m\u001b[37m\u001b[0m \u001b[1m0s\u001b[0m 1ms/step\n"
     ]
    }
   ],
   "source": [
    "from tensorflow.keras.models import Sequential\n",
    "from tensorflow.keras.layers import Embedding, Conv1D, MaxPooling1D, Flatten, Dense\n",
    "\n",
    "def create_cnn_model(max_words, max_len, embedding_dim=32):\n",
    "    model = Sequential()\n",
    "    model.add(Input(shape=(max_len,))) \n",
    "    model.add(Embedding(input_dim=max_words, output_dim=embedding_dim, input_length=max_len))\n",
    "    model.add(Conv1D(filters=32, kernel_size=3, activation='relu',padding='same'))\n",
    "    model.add(MaxPooling1D(pool_size=2, strides=2))\n",
    "    model.add(Flatten())\n",
    "    model.compile(optimizer='adam', loss='binary_crossentropy', metrics=['accuracy'])\n",
    "    return model\n",
    "\n",
    "max_words = 5000\n",
    "max_len = 737\n",
    "embedding_dim = 32\n",
    "\n",
    "cnn_model = create_cnn_model(max_words, max_len, embedding_dim)\n",
    "\n",
    "cnn_model.summary()\n",
    "\n",
    "train_cnn_embedding_outputs = cnn_model.predict(train_padded_sequences)\n",
    "test_cnn_embedding_outputs = cnn_model.predict(test_padded_sequences)\n"
   ]
  },
  {
   "cell_type": "code",
   "execution_count": 35,
   "id": "f6a7e81c-98ef-4a90-ae53-c80fd37c1712",
   "metadata": {},
   "outputs": [
    {
     "data": {
      "text/html": [
       "<pre style=\"white-space:pre;overflow-x:auto;line-height:normal;font-family:Menlo,'DejaVu Sans Mono',consolas,'Courier New',monospace\"><span style=\"font-weight: bold\">Model: \"sequential_2\"</span>\n",
       "</pre>\n"
      ],
      "text/plain": [
       "\u001b[1mModel: \"sequential_2\"\u001b[0m\n"
      ]
     },
     "metadata": {},
     "output_type": "display_data"
    },
    {
     "data": {
      "text/html": [
       "<pre style=\"white-space:pre;overflow-x:auto;line-height:normal;font-family:Menlo,'DejaVu Sans Mono',consolas,'Courier New',monospace\">┏━━━━━━━━━━━━━━━━━━━━━━━━━━━━━━━━━┳━━━━━━━━━━━━━━━━━━━━━━━━┳━━━━━━━━━━━━━━━┓\n",
       "┃<span style=\"font-weight: bold\"> Layer (type)                    </span>┃<span style=\"font-weight: bold\"> Output Shape           </span>┃<span style=\"font-weight: bold\">       Param # </span>┃\n",
       "┡━━━━━━━━━━━━━━━━━━━━━━━━━━━━━━━━━╇━━━━━━━━━━━━━━━━━━━━━━━━╇━━━━━━━━━━━━━━━┩\n",
       "│ dense_4 (<span style=\"color: #0087ff; text-decoration-color: #0087ff\">Dense</span>)                 │ (<span style=\"color: #00d7ff; text-decoration-color: #00d7ff\">None</span>, <span style=\"color: #00af00; text-decoration-color: #00af00\">50</span>)             │       <span style=\"color: #00af00; text-decoration-color: #00af00\">588,850</span> │\n",
       "├─────────────────────────────────┼────────────────────────┼───────────────┤\n",
       "│ dropout_3 (<span style=\"color: #0087ff; text-decoration-color: #0087ff\">Dropout</span>)             │ (<span style=\"color: #00d7ff; text-decoration-color: #00d7ff\">None</span>, <span style=\"color: #00af00; text-decoration-color: #00af00\">50</span>)             │             <span style=\"color: #00af00; text-decoration-color: #00af00\">0</span> │\n",
       "├─────────────────────────────────┼────────────────────────┼───────────────┤\n",
       "│ dense_5 (<span style=\"color: #0087ff; text-decoration-color: #0087ff\">Dense</span>)                 │ (<span style=\"color: #00d7ff; text-decoration-color: #00d7ff\">None</span>, <span style=\"color: #00af00; text-decoration-color: #00af00\">50</span>)             │         <span style=\"color: #00af00; text-decoration-color: #00af00\">2,550</span> │\n",
       "├─────────────────────────────────┼────────────────────────┼───────────────┤\n",
       "│ dropout_4 (<span style=\"color: #0087ff; text-decoration-color: #0087ff\">Dropout</span>)             │ (<span style=\"color: #00d7ff; text-decoration-color: #00d7ff\">None</span>, <span style=\"color: #00af00; text-decoration-color: #00af00\">50</span>)             │             <span style=\"color: #00af00; text-decoration-color: #00af00\">0</span> │\n",
       "├─────────────────────────────────┼────────────────────────┼───────────────┤\n",
       "│ dense_6 (<span style=\"color: #0087ff; text-decoration-color: #0087ff\">Dense</span>)                 │ (<span style=\"color: #00d7ff; text-decoration-color: #00d7ff\">None</span>, <span style=\"color: #00af00; text-decoration-color: #00af00\">50</span>)             │         <span style=\"color: #00af00; text-decoration-color: #00af00\">2,550</span> │\n",
       "├─────────────────────────────────┼────────────────────────┼───────────────┤\n",
       "│ dropout_5 (<span style=\"color: #0087ff; text-decoration-color: #0087ff\">Dropout</span>)             │ (<span style=\"color: #00d7ff; text-decoration-color: #00d7ff\">None</span>, <span style=\"color: #00af00; text-decoration-color: #00af00\">50</span>)             │             <span style=\"color: #00af00; text-decoration-color: #00af00\">0</span> │\n",
       "├─────────────────────────────────┼────────────────────────┼───────────────┤\n",
       "│ dense_7 (<span style=\"color: #0087ff; text-decoration-color: #0087ff\">Dense</span>)                 │ (<span style=\"color: #00d7ff; text-decoration-color: #00d7ff\">None</span>, <span style=\"color: #00af00; text-decoration-color: #00af00\">1</span>)              │            <span style=\"color: #00af00; text-decoration-color: #00af00\">51</span> │\n",
       "└─────────────────────────────────┴────────────────────────┴───────────────┘\n",
       "</pre>\n"
      ],
      "text/plain": [
       "┏━━━━━━━━━━━━━━━━━━━━━━━━━━━━━━━━━┳━━━━━━━━━━━━━━━━━━━━━━━━┳━━━━━━━━━━━━━━━┓\n",
       "┃\u001b[1m \u001b[0m\u001b[1mLayer (type)                   \u001b[0m\u001b[1m \u001b[0m┃\u001b[1m \u001b[0m\u001b[1mOutput Shape          \u001b[0m\u001b[1m \u001b[0m┃\u001b[1m \u001b[0m\u001b[1m      Param #\u001b[0m\u001b[1m \u001b[0m┃\n",
       "┡━━━━━━━━━━━━━━━━━━━━━━━━━━━━━━━━━╇━━━━━━━━━━━━━━━━━━━━━━━━╇━━━━━━━━━━━━━━━┩\n",
       "│ dense_4 (\u001b[38;5;33mDense\u001b[0m)                 │ (\u001b[38;5;45mNone\u001b[0m, \u001b[38;5;34m50\u001b[0m)             │       \u001b[38;5;34m588,850\u001b[0m │\n",
       "├─────────────────────────────────┼────────────────────────┼───────────────┤\n",
       "│ dropout_3 (\u001b[38;5;33mDropout\u001b[0m)             │ (\u001b[38;5;45mNone\u001b[0m, \u001b[38;5;34m50\u001b[0m)             │             \u001b[38;5;34m0\u001b[0m │\n",
       "├─────────────────────────────────┼────────────────────────┼───────────────┤\n",
       "│ dense_5 (\u001b[38;5;33mDense\u001b[0m)                 │ (\u001b[38;5;45mNone\u001b[0m, \u001b[38;5;34m50\u001b[0m)             │         \u001b[38;5;34m2,550\u001b[0m │\n",
       "├─────────────────────────────────┼────────────────────────┼───────────────┤\n",
       "│ dropout_4 (\u001b[38;5;33mDropout\u001b[0m)             │ (\u001b[38;5;45mNone\u001b[0m, \u001b[38;5;34m50\u001b[0m)             │             \u001b[38;5;34m0\u001b[0m │\n",
       "├─────────────────────────────────┼────────────────────────┼───────────────┤\n",
       "│ dense_6 (\u001b[38;5;33mDense\u001b[0m)                 │ (\u001b[38;5;45mNone\u001b[0m, \u001b[38;5;34m50\u001b[0m)             │         \u001b[38;5;34m2,550\u001b[0m │\n",
       "├─────────────────────────────────┼────────────────────────┼───────────────┤\n",
       "│ dropout_5 (\u001b[38;5;33mDropout\u001b[0m)             │ (\u001b[38;5;45mNone\u001b[0m, \u001b[38;5;34m50\u001b[0m)             │             \u001b[38;5;34m0\u001b[0m │\n",
       "├─────────────────────────────────┼────────────────────────┼───────────────┤\n",
       "│ dense_7 (\u001b[38;5;33mDense\u001b[0m)                 │ (\u001b[38;5;45mNone\u001b[0m, \u001b[38;5;34m1\u001b[0m)              │            \u001b[38;5;34m51\u001b[0m │\n",
       "└─────────────────────────────────┴────────────────────────┴───────────────┘\n"
      ]
     },
     "metadata": {},
     "output_type": "display_data"
    },
    {
     "data": {
      "text/html": [
       "<pre style=\"white-space:pre;overflow-x:auto;line-height:normal;font-family:Menlo,'DejaVu Sans Mono',consolas,'Courier New',monospace\"><span style=\"font-weight: bold\"> Total params: </span><span style=\"color: #00af00; text-decoration-color: #00af00\">594,001</span> (2.27 MB)\n",
       "</pre>\n"
      ],
      "text/plain": [
       "\u001b[1m Total params: \u001b[0m\u001b[38;5;34m594,001\u001b[0m (2.27 MB)\n"
      ]
     },
     "metadata": {},
     "output_type": "display_data"
    },
    {
     "data": {
      "text/html": [
       "<pre style=\"white-space:pre;overflow-x:auto;line-height:normal;font-family:Menlo,'DejaVu Sans Mono',consolas,'Courier New',monospace\"><span style=\"font-weight: bold\"> Trainable params: </span><span style=\"color: #00af00; text-decoration-color: #00af00\">594,001</span> (2.27 MB)\n",
       "</pre>\n"
      ],
      "text/plain": [
       "\u001b[1m Trainable params: \u001b[0m\u001b[38;5;34m594,001\u001b[0m (2.27 MB)\n"
      ]
     },
     "metadata": {},
     "output_type": "display_data"
    },
    {
     "data": {
      "text/html": [
       "<pre style=\"white-space:pre;overflow-x:auto;line-height:normal;font-family:Menlo,'DejaVu Sans Mono',consolas,'Courier New',monospace\"><span style=\"font-weight: bold\"> Non-trainable params: </span><span style=\"color: #00af00; text-decoration-color: #00af00\">0</span> (0.00 B)\n",
       "</pre>\n"
      ],
      "text/plain": [
       "\u001b[1m Non-trainable params: \u001b[0m\u001b[38;5;34m0\u001b[0m (0.00 B)\n"
      ]
     },
     "metadata": {},
     "output_type": "display_data"
    },
    {
     "name": "stdout",
     "output_type": "stream",
     "text": [
      "Epoch 1/2\n",
      "\u001b[1m140/140\u001b[0m \u001b[32m━━━━━━━━━━━━━━━━━━━━\u001b[0m\u001b[37m\u001b[0m \u001b[1m0s\u001b[0m 1ms/step - accuracy: 0.5479 - loss: 0.7099\n",
      "Epoch 2/2\n",
      "\u001b[1m140/140\u001b[0m \u001b[32m━━━━━━━━━━━━━━━━━━━━\u001b[0m\u001b[37m\u001b[0m \u001b[1m0s\u001b[0m 1ms/step - accuracy: 0.5102 - loss: 0.6940\n",
      "Train Accuracy: 56.50%\n",
      "Test Accuracy: 54.83%\n"
     ]
    }
   ],
   "source": [
    "mlp_model_2 = create_mlp_model(train_cnn_embedding_outputs.shape[1])\n",
    "mlp_model_2.summary()\n",
    "history_2 = mlp_model_2.fit(train_cnn_embedding_outputs, df_train['sentiment'], epochs=2, batch_size=10, verbose=1)\n",
    "train_loss, train_accuracy = mlp_model_2.evaluate(train_cnn_embedding_outputs, df_train[\"sentiment\"], verbose=0)\n",
    "print(f\"Train Accuracy: {train_accuracy * 100:.2f}%\")\n",
    "\n",
    "\n",
    "test_loss, test_accuracy = mlp_model_2.evaluate(test_cnn_embedding_outputs, df_test[\"sentiment\"], verbose=0)\n",
    "print(f\"Test Accuracy: {test_accuracy * 100:.2f}%\")"
   ]
  },
  {
   "cell_type": "markdown",
   "id": "93ded393-447e-4dd5-baff-c8e9df497c02",
   "metadata": {},
   "source": [
    "## Long Short-Term Memory Recurrent Neural Network\n"
   ]
  },
  {
   "cell_type": "code",
   "execution_count": 36,
   "id": "039c1063-317c-4916-9d48-c7aa3eab4a61",
   "metadata": {},
   "outputs": [],
   "source": [
    "from tensorflow.keras.models import Sequential\n",
    "from tensorflow.keras.layers import Embedding, LSTM, Dense, Dropout\n",
    "\n",
    "def create_lstm_model(vocabulary_size, max_length, embedding_dim=32):\n",
    "    model = Sequential([\n",
    "        Embedding(input_dim=vocabulary_size, output_dim=embedding_dim, input_length=max_length),\n",
    "        LSTM(256, return_sequences=False, dropout=0.2),       \n",
    "        Dense(256, activation='relu'),\n",
    "        Dropout(0.2),\n",
    "        Dense(1, activation='sigmoid')\n",
    "    ])\n",
    "    model.compile(optimizer='adam', loss='binary_crossentropy', metrics=['accuracy'])\n",
    "    return model\n",
    "\n",
    "vocabulary_size = 5000 \n",
    "max_length = 737\n",
    "embedding_dim = 32\n",
    "\n",
    "lstm_model = create_lstm_model(vocabulary_size, max_length, embedding_dim)\n"
   ]
  },
  {
   "cell_type": "code",
   "execution_count": 28,
   "id": "c969ba33-9c92-46aa-9042-929a0173838a",
   "metadata": {},
   "outputs": [
    {
     "name": "stdout",
     "output_type": "stream",
     "text": [
      "Epoch 1/50\n",
      "\u001b[1m140/140\u001b[0m \u001b[32m━━━━━━━━━━━━━━━━━━━━\u001b[0m\u001b[37m\u001b[0m \u001b[1m49s\u001b[0m 343ms/step - accuracy: 0.5183 - loss: 0.6949 - val_accuracy: 0.5000 - val_loss: 0.6919\n",
      "Epoch 2/50\n",
      "\u001b[1m140/140\u001b[0m \u001b[32m━━━━━━━━━━━━━━━━━━━━\u001b[0m\u001b[37m\u001b[0m \u001b[1m43s\u001b[0m 305ms/step - accuracy: 0.5232 - loss: 0.6951 - val_accuracy: 0.4950 - val_loss: 0.6963\n",
      "Epoch 3/50\n",
      "\u001b[1m140/140\u001b[0m \u001b[32m━━━━━━━━━━━━━━━━━━━━\u001b[0m\u001b[37m\u001b[0m \u001b[1m43s\u001b[0m 305ms/step - accuracy: 0.5286 - loss: 0.6859 - val_accuracy: 0.5417 - val_loss: 0.6925\n",
      "Epoch 4/50\n",
      "\u001b[1m140/140\u001b[0m \u001b[32m━━━━━━━━━━━━━━━━━━━━\u001b[0m\u001b[37m\u001b[0m \u001b[1m42s\u001b[0m 303ms/step - accuracy: 0.5719 - loss: 0.6436 - val_accuracy: 0.5267 - val_loss: 0.7202\n",
      "Epoch 5/50\n",
      "\u001b[1m140/140\u001b[0m \u001b[32m━━━━━━━━━━━━━━━━━━━━\u001b[0m\u001b[37m\u001b[0m \u001b[1m43s\u001b[0m 305ms/step - accuracy: 0.5925 - loss: 0.6102 - val_accuracy: 0.5267 - val_loss: 0.7696\n",
      "Epoch 6/50\n",
      "\u001b[1m140/140\u001b[0m \u001b[32m━━━━━━━━━━━━━━━━━━━━\u001b[0m\u001b[37m\u001b[0m \u001b[1m43s\u001b[0m 305ms/step - accuracy: 0.6225 - loss: 0.5994 - val_accuracy: 0.5283 - val_loss: 0.8152\n",
      "Epoch 7/50\n",
      "\u001b[1m140/140\u001b[0m \u001b[32m━━━━━━━━━━━━━━━━━━━━\u001b[0m\u001b[37m\u001b[0m \u001b[1m43s\u001b[0m 304ms/step - accuracy: 0.6032 - loss: 0.5954 - val_accuracy: 0.5017 - val_loss: 0.7293\n",
      "Epoch 8/50\n",
      "\u001b[1m140/140\u001b[0m \u001b[32m━━━━━━━━━━━━━━━━━━━━\u001b[0m\u001b[37m\u001b[0m \u001b[1m43s\u001b[0m 310ms/step - accuracy: 0.5292 - loss: 0.7305 - val_accuracy: 0.4900 - val_loss: 0.7232\n",
      "Epoch 9/50\n",
      "\u001b[1m140/140\u001b[0m \u001b[32m━━━━━━━━━━━━━━━━━━━━\u001b[0m\u001b[37m\u001b[0m \u001b[1m47s\u001b[0m 337ms/step - accuracy: 0.5357 - loss: 0.7039 - val_accuracy: 0.4983 - val_loss: 0.6964\n",
      "Epoch 10/50\n",
      "\u001b[1m140/140\u001b[0m \u001b[32m━━━━━━━━━━━━━━━━━━━━\u001b[0m\u001b[37m\u001b[0m \u001b[1m45s\u001b[0m 325ms/step - accuracy: 0.4929 - loss: 0.6939 - val_accuracy: 0.5117 - val_loss: 0.6932\n",
      "Epoch 11/50\n",
      "\u001b[1m140/140\u001b[0m \u001b[32m━━━━━━━━━━━━━━━━━━━━\u001b[0m\u001b[37m\u001b[0m \u001b[1m44s\u001b[0m 316ms/step - accuracy: 0.4945 - loss: 0.6959 - val_accuracy: 0.5217 - val_loss: 0.6931\n",
      "Epoch 12/50\n",
      "\u001b[1m140/140\u001b[0m \u001b[32m━━━━━━━━━━━━━━━━━━━━\u001b[0m\u001b[37m\u001b[0m \u001b[1m45s\u001b[0m 324ms/step - accuracy: 0.5326 - loss: 0.6893 - val_accuracy: 0.5100 - val_loss: 0.6938\n",
      "Epoch 13/50\n",
      "\u001b[1m140/140\u001b[0m \u001b[32m━━━━━━━━━━━━━━━━━━━━\u001b[0m\u001b[37m\u001b[0m \u001b[1m44s\u001b[0m 317ms/step - accuracy: 0.5239 - loss: 0.6943 - val_accuracy: 0.5267 - val_loss: 0.6986\n",
      "Epoch 14/50\n",
      "\u001b[1m140/140\u001b[0m \u001b[32m━━━━━━━━━━━━━━━━━━━━\u001b[0m\u001b[37m\u001b[0m \u001b[1m44s\u001b[0m 314ms/step - accuracy: 0.5298 - loss: 0.6924 - val_accuracy: 0.5383 - val_loss: 0.6910\n",
      "Epoch 15/50\n",
      "\u001b[1m140/140\u001b[0m \u001b[32m━━━━━━━━━━━━━━━━━━━━\u001b[0m\u001b[37m\u001b[0m \u001b[1m45s\u001b[0m 321ms/step - accuracy: 0.5367 - loss: 0.6882 - val_accuracy: 0.4883 - val_loss: 0.6960\n",
      "Epoch 16/50\n",
      "\u001b[1m140/140\u001b[0m \u001b[32m━━━━━━━━━━━━━━━━━━━━\u001b[0m\u001b[37m\u001b[0m \u001b[1m45s\u001b[0m 319ms/step - accuracy: 0.5106 - loss: 0.6930 - val_accuracy: 0.5283 - val_loss: 0.6934\n",
      "Epoch 17/50\n",
      "\u001b[1m140/140\u001b[0m \u001b[32m━━━━━━━━━━━━━━━━━━━━\u001b[0m\u001b[37m\u001b[0m \u001b[1m44s\u001b[0m 314ms/step - accuracy: 0.5172 - loss: 0.6889 - val_accuracy: 0.5050 - val_loss: 0.6943\n",
      "Epoch 18/50\n",
      "\u001b[1m140/140\u001b[0m \u001b[32m━━━━━━━━━━━━━━━━━━━━\u001b[0m\u001b[37m\u001b[0m \u001b[1m44s\u001b[0m 316ms/step - accuracy: 0.5545 - loss: 0.6845 - val_accuracy: 0.5033 - val_loss: 0.6949\n",
      "Epoch 19/50\n",
      "\u001b[1m140/140\u001b[0m \u001b[32m━━━━━━━━━━━━━━━━━━━━\u001b[0m\u001b[37m\u001b[0m \u001b[1m45s\u001b[0m 319ms/step - accuracy: 0.5445 - loss: 0.6853 - val_accuracy: 0.5283 - val_loss: 0.6917\n",
      "Epoch 20/50\n",
      "\u001b[1m140/140\u001b[0m \u001b[32m━━━━━━━━━━━━━━━━━━━━\u001b[0m\u001b[37m\u001b[0m \u001b[1m44s\u001b[0m 313ms/step - accuracy: 0.5328 - loss: 0.6879 - val_accuracy: 0.5550 - val_loss: 0.6966\n",
      "Epoch 21/50\n",
      "\u001b[1m140/140\u001b[0m \u001b[32m━━━━━━━━━━━━━━━━━━━━\u001b[0m\u001b[37m\u001b[0m \u001b[1m44s\u001b[0m 316ms/step - accuracy: 0.5423 - loss: 0.6785 - val_accuracy: 0.5350 - val_loss: 0.6941\n",
      "Epoch 22/50\n",
      "\u001b[1m140/140\u001b[0m \u001b[32m━━━━━━━━━━━━━━━━━━━━\u001b[0m\u001b[37m\u001b[0m \u001b[1m45s\u001b[0m 318ms/step - accuracy: 0.5396 - loss: 0.6782 - val_accuracy: 0.5233 - val_loss: 0.6945\n",
      "Epoch 23/50\n",
      "\u001b[1m140/140\u001b[0m \u001b[32m━━━━━━━━━━━━━━━━━━━━\u001b[0m\u001b[37m\u001b[0m \u001b[1m45s\u001b[0m 323ms/step - accuracy: 0.5560 - loss: 0.6713 - val_accuracy: 0.5200 - val_loss: 0.7045\n",
      "Epoch 24/50\n",
      "\u001b[1m140/140\u001b[0m \u001b[32m━━━━━━━━━━━━━━━━━━━━\u001b[0m\u001b[37m\u001b[0m \u001b[1m45s\u001b[0m 319ms/step - accuracy: 0.5385 - loss: 0.6693 - val_accuracy: 0.5417 - val_loss: 0.6986\n",
      "Epoch 25/50\n",
      "\u001b[1m140/140\u001b[0m \u001b[32m━━━━━━━━━━━━━━━━━━━━\u001b[0m\u001b[37m\u001b[0m \u001b[1m45s\u001b[0m 323ms/step - accuracy: 0.5747 - loss: 0.6606 - val_accuracy: 0.5100 - val_loss: 0.7242\n",
      "Epoch 26/50\n",
      "\u001b[1m140/140\u001b[0m \u001b[32m━━━━━━━━━━━━━━━━━━━━\u001b[0m\u001b[37m\u001b[0m \u001b[1m45s\u001b[0m 323ms/step - accuracy: 0.5693 - loss: 0.6514 - val_accuracy: 0.5083 - val_loss: 0.7195\n",
      "Epoch 27/50\n",
      "\u001b[1m140/140\u001b[0m \u001b[32m━━━━━━━━━━━━━━━━━━━━\u001b[0m\u001b[37m\u001b[0m \u001b[1m45s\u001b[0m 322ms/step - accuracy: 0.6039 - loss: 0.6437 - val_accuracy: 0.5333 - val_loss: 0.7817\n",
      "Epoch 28/50\n",
      "\u001b[1m140/140\u001b[0m \u001b[32m━━━━━━━━━━━━━━━━━━━━\u001b[0m\u001b[37m\u001b[0m \u001b[1m45s\u001b[0m 323ms/step - accuracy: 0.5876 - loss: 0.6295 - val_accuracy: 0.5133 - val_loss: 0.7734\n",
      "Epoch 29/50\n",
      "\u001b[1m140/140\u001b[0m \u001b[32m━━━━━━━━━━━━━━━━━━━━\u001b[0m\u001b[37m\u001b[0m \u001b[1m46s\u001b[0m 331ms/step - accuracy: 0.6102 - loss: 0.6029 - val_accuracy: 0.5367 - val_loss: 0.8380\n",
      "Epoch 30/50\n",
      "\u001b[1m140/140\u001b[0m \u001b[32m━━━━━━━━━━━━━━━━━━━━\u001b[0m\u001b[37m\u001b[0m \u001b[1m49s\u001b[0m 353ms/step - accuracy: 0.6002 - loss: 0.6014 - val_accuracy: 0.5167 - val_loss: 0.8132\n",
      "Epoch 31/50\n",
      "\u001b[1m140/140\u001b[0m \u001b[32m━━━━━━━━━━━━━━━━━━━━\u001b[0m\u001b[37m\u001b[0m \u001b[1m52s\u001b[0m 375ms/step - accuracy: 0.6097 - loss: 0.5760 - val_accuracy: 0.5250 - val_loss: 0.9399\n",
      "Epoch 32/50\n",
      "\u001b[1m140/140\u001b[0m \u001b[32m━━━━━━━━━━━━━━━━━━━━\u001b[0m\u001b[37m\u001b[0m \u001b[1m49s\u001b[0m 354ms/step - accuracy: 0.6154 - loss: 0.5534 - val_accuracy: 0.5233 - val_loss: 0.9548\n",
      "Epoch 33/50\n",
      "\u001b[1m140/140\u001b[0m \u001b[32m━━━━━━━━━━━━━━━━━━━━\u001b[0m\u001b[37m\u001b[0m \u001b[1m61s\u001b[0m 437ms/step - accuracy: 0.6258 - loss: 0.5617 - val_accuracy: 0.5233 - val_loss: 0.9349\n",
      "Epoch 34/50\n",
      "\u001b[1m140/140\u001b[0m \u001b[32m━━━━━━━━━━━━━━━━━━━━\u001b[0m\u001b[37m\u001b[0m \u001b[1m63s\u001b[0m 450ms/step - accuracy: 0.6149 - loss: 0.5719 - val_accuracy: 0.5267 - val_loss: 0.9664\n",
      "Epoch 35/50\n",
      "\u001b[1m140/140\u001b[0m \u001b[32m━━━━━━━━━━━━━━━━━━━━\u001b[0m\u001b[37m\u001b[0m \u001b[1m62s\u001b[0m 445ms/step - accuracy: 0.6087 - loss: 0.5632 - val_accuracy: 0.5233 - val_loss: 1.0084\n",
      "Epoch 36/50\n",
      "\u001b[1m140/140\u001b[0m \u001b[32m━━━━━━━━━━━━━━━━━━━━\u001b[0m\u001b[37m\u001b[0m \u001b[1m63s\u001b[0m 446ms/step - accuracy: 0.6140 - loss: 0.5660 - val_accuracy: 0.5133 - val_loss: 0.9722\n",
      "Epoch 37/50\n",
      "\u001b[1m140/140\u001b[0m \u001b[32m━━━━━━━━━━━━━━━━━━━━\u001b[0m\u001b[37m\u001b[0m \u001b[1m59s\u001b[0m 422ms/step - accuracy: 0.6013 - loss: 0.5590 - val_accuracy: 0.5250 - val_loss: 1.0020\n",
      "Epoch 38/50\n",
      "\u001b[1m140/140\u001b[0m \u001b[32m━━━━━━━━━━━━━━━━━━━━\u001b[0m\u001b[37m\u001b[0m \u001b[1m60s\u001b[0m 426ms/step - accuracy: 0.6059 - loss: 0.5733 - val_accuracy: 0.5267 - val_loss: 1.1207\n",
      "Epoch 39/50\n",
      "\u001b[1m140/140\u001b[0m \u001b[32m━━━━━━━━━━━━━━━━━━━━\u001b[0m\u001b[37m\u001b[0m \u001b[1m59s\u001b[0m 422ms/step - accuracy: 0.5981 - loss: 0.5663 - val_accuracy: 0.5267 - val_loss: 1.0434\n",
      "Epoch 40/50\n",
      "\u001b[1m140/140\u001b[0m \u001b[32m━━━━━━━━━━━━━━━━━━━━\u001b[0m\u001b[37m\u001b[0m \u001b[1m59s\u001b[0m 423ms/step - accuracy: 0.6021 - loss: 0.5686 - val_accuracy: 0.5183 - val_loss: 1.0335\n",
      "Epoch 41/50\n",
      "\u001b[1m140/140\u001b[0m \u001b[32m━━━━━━━━━━━━━━━━━━━━\u001b[0m\u001b[37m\u001b[0m \u001b[1m59s\u001b[0m 425ms/step - accuracy: 0.6218 - loss: 0.5612 - val_accuracy: 0.5233 - val_loss: 1.0707\n",
      "Epoch 42/50\n",
      "\u001b[1m140/140\u001b[0m \u001b[32m━━━━━━━━━━━━━━━━━━━━\u001b[0m\u001b[37m\u001b[0m \u001b[1m61s\u001b[0m 439ms/step - accuracy: 0.5961 - loss: 0.5641 - val_accuracy: 0.5217 - val_loss: 1.0749\n",
      "Epoch 43/50\n",
      "\u001b[1m140/140\u001b[0m \u001b[32m━━━━━━━━━━━━━━━━━━━━\u001b[0m\u001b[37m\u001b[0m \u001b[1m63s\u001b[0m 450ms/step - accuracy: 0.6118 - loss: 0.5622 - val_accuracy: 0.5233 - val_loss: 1.1096\n",
      "Epoch 44/50\n",
      "\u001b[1m140/140\u001b[0m \u001b[32m━━━━━━━━━━━━━━━━━━━━\u001b[0m\u001b[37m\u001b[0m \u001b[1m61s\u001b[0m 439ms/step - accuracy: 0.6407 - loss: 0.5487 - val_accuracy: 0.5250 - val_loss: 1.1083\n",
      "Epoch 45/50\n",
      "\u001b[1m140/140\u001b[0m \u001b[32m━━━━━━━━━━━━━━━━━━━━\u001b[0m\u001b[37m\u001b[0m \u001b[1m60s\u001b[0m 426ms/step - accuracy: 0.5942 - loss: 0.5626 - val_accuracy: 0.5250 - val_loss: 1.1195\n",
      "Epoch 46/50\n",
      "\u001b[1m140/140\u001b[0m \u001b[32m━━━━━━━━━━━━━━━━━━━━\u001b[0m\u001b[37m\u001b[0m \u001b[1m60s\u001b[0m 429ms/step - accuracy: 0.6290 - loss: 0.5550 - val_accuracy: 0.5283 - val_loss: 1.1159\n",
      "Epoch 47/50\n",
      "\u001b[1m140/140\u001b[0m \u001b[32m━━━━━━━━━━━━━━━━━━━━\u001b[0m\u001b[37m\u001b[0m \u001b[1m64s\u001b[0m 460ms/step - accuracy: 0.6028 - loss: 0.5675 - val_accuracy: 0.5333 - val_loss: 1.1540\n",
      "Epoch 48/50\n",
      "\u001b[1m140/140\u001b[0m \u001b[32m━━━━━━━━━━━━━━━━━━━━\u001b[0m\u001b[37m\u001b[0m \u001b[1m56s\u001b[0m 401ms/step - accuracy: 0.6316 - loss: 0.5547 - val_accuracy: 0.5283 - val_loss: 1.1711\n",
      "Epoch 49/50\n",
      "\u001b[1m140/140\u001b[0m \u001b[32m━━━━━━━━━━━━━━━━━━━━\u001b[0m\u001b[37m\u001b[0m \u001b[1m56s\u001b[0m 399ms/step - accuracy: 0.6281 - loss: 0.5521 - val_accuracy: 0.5233 - val_loss: 1.1739\n",
      "Epoch 50/50\n",
      "\u001b[1m140/140\u001b[0m \u001b[32m━━━━━━━━━━━━━━━━━━━━\u001b[0m\u001b[37m\u001b[0m \u001b[1m55s\u001b[0m 397ms/step - accuracy: 0.6279 - loss: 0.5537 - val_accuracy: 0.5233 - val_loss: 1.2039\n"
     ]
    }
   ],
   "source": [
    "history = lstm_model.fit(train_padded_sequences, df_train['sentiment'], \n",
    "    epochs=50,\n",
    "    batch_size=10,\n",
    "    validation_data=(test_padded_sequences, df_test['sentiment'])\n",
    ")"
   ]
  },
  {
   "cell_type": "code",
   "execution_count": 29,
   "id": "d693c5dc-9cf3-41ee-bd78-27e9ddf96090",
   "metadata": {},
   "outputs": [
    {
     "name": "stdout",
     "output_type": "stream",
     "text": [
      "\u001b[1m19/19\u001b[0m \u001b[32m━━━━━━━━━━━━━━━━━━━━\u001b[0m\u001b[37m\u001b[0m \u001b[1m3s\u001b[0m 171ms/step - accuracy: 0.3054 - loss: 1.0157\n",
      " Test Accuracy: 52.33%\n"
     ]
    }
   ],
   "source": [
    "test_loss, test_accuracy = lstm_model.evaluate(test_padded_sequences, df_test['sentiment'])\n",
    "print(f' Test Accuracy: {test_accuracy*100:.2f}%')"
   ]
  },
  {
   "cell_type": "code",
   "execution_count": 30,
   "id": "56c7a90a-3c2b-4649-beec-8cec95ee5d85",
   "metadata": {},
   "outputs": [
    {
     "name": "stdout",
     "output_type": "stream",
     "text": [
      "\u001b[1m44/44\u001b[0m \u001b[32m━━━━━━━━━━━━━━━━━━━━\u001b[0m\u001b[37m\u001b[0m \u001b[1m8s\u001b[0m 173ms/step - accuracy: 0.3697 - loss: 0.5617\n",
      "Train Accuracy: 61.79%\n"
     ]
    }
   ],
   "source": [
    "train_loss, train_accuracy = lstm_model.evaluate(train_padded_sequences, df_train['sentiment'])\n",
    "print(f'Train Accuracy: {train_accuracy*100:.2f}%')"
   ]
  }
 ],
 "metadata": {
  "kernelspec": {
   "display_name": "Python 3 (ipykernel)",
   "language": "python",
   "name": "python3"
  },
  "language_info": {
   "codemirror_mode": {
    "name": "ipython",
    "version": 3
   },
   "file_extension": ".py",
   "mimetype": "text/x-python",
   "name": "python",
   "nbconvert_exporter": "python",
   "pygments_lexer": "ipython3",
   "version": "3.9.6"
  }
 },
 "nbformat": 4,
 "nbformat_minor": 5
}
